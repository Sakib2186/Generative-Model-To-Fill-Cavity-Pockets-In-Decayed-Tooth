{
 "cells": [
  {
   "cell_type": "code",
   "execution_count": 1,
   "id": "0aca713a-4343-4aef-81d3-7db8a44ac5bc",
   "metadata": {},
   "outputs": [],
   "source": [
    "import os\n",
    "import torch\n",
    "import numpy as np\n",
    "import trimesh\n",
    "import matplotlib.pyplot as plt\n",
    "from skimage.measure import marching_cubes\n",
    "from monai.networks.nets import UNet\n",
    "from monai.inferers import sliding_window_inference\n",
    "from sklearn.metrics import mean_squared_error, precision_score, recall_score\n",
    "from scipy.spatial.distance import directed_hausdorff"
   ]
  },
  {
   "cell_type": "code",
   "execution_count": 22,
   "id": "37b5b707-2ff6-48c4-9ca3-e4ae28b38773",
   "metadata": {},
   "outputs": [
    {
     "name": "stdout",
     "output_type": "stream",
     "text": [
      "Using device: cuda\n"
     ]
    }
   ],
   "source": [
    "MODEL_WEIGHTS_PATH = r\"\"\n",
    "TEST_CAVITY_STL_PATH = r\"\"   \n",
    "GROUND_TRUTH_STL_PATH = r\"\"  \n",
    "OUTPUT_FILLING_STL_PATH = \"\" \n",
    "\n",
    "VOXEL_DIM = 128 \n",
    "\n",
    "device = torch.device(\"cuda\" if torch.cuda.is_available() else \"cpu\")\n",
    "print(f\"Using device: {device}\")\n"
   ]
  },
  {
   "cell_type": "code",
   "execution_count": 23,
   "id": "4e47e06f-8cde-444e-96b2-1f7659cfae33",
   "metadata": {},
   "outputs": [],
   "source": [
    "model = UNet(\n",
    "    spatial_dims=3,\n",
    "    in_channels=1,\n",
    "    out_channels=1,\n",
    "    channels=(16, 32, 64, 128, 256),\n",
    "    strides=(2, 2, 2, 2),\n",
    "    num_res_units=2,\n",
    "    dropout=0.2 \n",
    ").to(device)\n"
   ]
  },
  {
   "cell_type": "code",
   "execution_count": 24,
   "id": "dde71a8a-4702-4614-8243-47aed8826457",
   "metadata": {},
   "outputs": [],
   "source": [
    "def mesh_to_voxels(stl_path, dimension=128, pad=5):\n",
    "\n",
    "    try:\n",
    "        mesh = trimesh.load(stl_path)\n",
    "        if not mesh.is_watertight:\n",
    "            mesh.fill_holes()\n",
    "        mesh.apply_translation(-mesh.centroid)\n",
    "        max_extent = np.max(mesh.extents)\n",
    "        pitch = max_extent / (dimension - 2 * pad)\n",
    "        voxels = mesh.voxelized(pitch=pitch)\n",
    "        filled_voxels = voxels.fill().matrix.astype(np.float32)\n",
    "        x, y, z = filled_voxels.shape\n",
    "        grid = np.zeros((dimension, dimension, dimension), dtype=np.float32)\n",
    "        x_start = (dimension - x) // 2\n",
    "        y_start = (dimension - y) // 2\n",
    "        z_start = (dimension - z) // 2\n",
    "        grid[x_start:x_start+x, y_start:y_start+y, z_start:z_start+z] = filled_voxels\n",
    "        return grid\n",
    "    except Exception as e:\n",
    "        print(f\"Error processing {stl_path}: {e}\")\n",
    "        return np.zeros((dimension, dimension, dimension), dtype=np.float32)\n",
    "\n",
    "def calculate_dice_score(pred_voxels, gt_voxels):\n",
    "  \n",
    "    intersection = np.sum(pred_voxels * gt_voxels)\n",
    "    volumes = np.sum(pred_voxels) + np.sum(gt_voxels)\n",
    "    if volumes == 0:\n",
    "        return 1.0  # Both are empty, perfect match\n",
    "    return 2.0 * intersection / volumes\n",
    "\n",
    "def visualize_comparison(cavity, ground_truth, prediction):\n",
    "    slice_idx = VOXEL_DIM // 2\n",
    "    \n",
    "    fig, axes = plt.subplots(1, 3, figsize=(18, 6))\n",
    "    \n",
    "    axes[0].imshow(cavity[slice_idx, :, :], cmap='bone')\n",
    "    axes[0].set_title(\"Input Cavity\", fontsize=16)\n",
    "    axes[0].axis('off')\n",
    "    \n",
    "    axes[1].imshow(ground_truth[slice_idx, :, :], cmap='Greens')\n",
    "    axes[1].set_title(\"Ground Truth Filling\", fontsize=16)\n",
    "    axes[1].axis('off')\n",
    "\n",
    "    axes[2].imshow(prediction[slice_idx, :, :], cmap='Oranges')\n",
    "    axes[2].set_title(\"Predicted Filling\", fontsize=16)\n",
    "    axes[2].axis('off')\n",
    "    \n",
    "    plt.tight_layout()\n",
    "    plt.show()\n",
    "\n",
    "def calculate_metrics(pred_probs, pred_voxels, gt_voxels):\n",
    "    metrics = {}\n",
    "    \n",
    "    # Flatten arrays for sklearn metrics\n",
    "    gt_flat = gt_voxels.flatten()\n",
    "    pred_flat = pred_voxels.flatten()\n",
    "    pred_probs_flat = pred_probs.flatten()\n",
    "    \n",
    "    # Volumetric Metrics\n",
    "    intersection = np.sum(pred_voxels * gt_voxels)\n",
    "    union = np.sum(pred_voxels) + np.sum(gt_voxels) - intersection\n",
    "    \n",
    "    metrics['dice'] = (2.0 * intersection) / (np.sum(pred_voxels) + np.sum(gt_voxels)) if (np.sum(pred_voxels) + np.sum(gt_voxels)) > 0 else 1.0\n",
    "    metrics['jaccard_iou'] = intersection / union if union > 0 else 1.0\n",
    "    \n",
    "    # Voxel-wise Metrics\n",
    "    metrics['mse'] = mean_squared_error(gt_flat, pred_probs_flat)\n",
    "    metrics['precision'] = precision_score(gt_flat, pred_flat, zero_division=0)\n",
    "    metrics['recall'] = recall_score(gt_flat, pred_flat, zero_division=0)\n",
    "    \n",
    "    # Surface Distance Metric (Hausdorff)\n",
    "    gt_points = np.argwhere(gt_voxels)\n",
    "    pred_points = np.argwhere(pred_voxels)\n",
    "    if gt_points.shape[0] > 0 and pred_points.shape[0] > 0:\n",
    "        h_dist_1 = directed_hausdorff(gt_points, pred_points)[0]\n",
    "        h_dist_2 = directed_hausdorff(pred_points, gt_points)[0]\n",
    "        metrics['hausdorff_distance'] = max(h_dist_1, h_dist_2)\n",
    "    else:\n",
    "        metrics['hausdorff_distance'] = np.inf # Cannot be calculated if one shape is empty\n",
    "        \n",
    "    return metrics"
   ]
  },
  {
   "cell_type": "code",
   "execution_count": 25,
   "id": "eb224997-01e7-44fb-95d7-bfeab0e06d6e",
   "metadata": {},
   "outputs": [],
   "source": [
    "def generate_and_compare(cavity_path, gt_path, model_weights_path, output_path):\n",
    "    \n",
    "    print(f\"Loading model weights from {model_weights_path}...\")\n",
    "    model.load_state_dict(torch.load(model_weights_path, map_location=device))\n",
    "    model.eval()\n",
    "    \n",
    "    print(f\"Processing input files...\")\n",
    "    cavity_voxels = mesh_to_voxels(cavity_path, dimension=VOXEL_DIM)\n",
    "    gt_voxels = mesh_to_voxels(gt_path, dimension=VOXEL_DIM)\n",
    "    \n",
    "    print(\"Generating prediction...\")\n",
    "    with torch.no_grad():\n",
    "        cavity_tensor = torch.from_numpy(cavity_voxels).unsqueeze(0).unsqueeze(0).to(device)\n",
    "        pred_logits = sliding_window_inference(cavity_tensor, (VOXEL_DIM, VOXEL_DIM, VOXEL_DIM), 4, model)\n",
    "        pred_probs = torch.sigmoid(pred_logits).cpu().numpy().squeeze()\n",
    "        pred_voxels = (pred_probs > 0.5).astype(np.float32)\n",
    "    all_metrics = calculate_metrics(pred_probs, pred_voxels, gt_voxels)\n",
    "    print(f\"  Dice Score:           {all_metrics['dice']:.4f}\")\n",
    "    print(f\"  Jaccard (IoU):        {all_metrics['jaccard_iou']:.4f}\")\n",
    "    print(f\"  Mean Squared Error:   {all_metrics['mse']:.4f}\")\n",
    "    print(f\"  Precision:            {all_metrics['precision']:.4f}\")\n",
    "    print(f\"  Recall (Sensitivity): {all_metrics['recall']:.4f}\")\n",
    "    print(f\"  Hausdorff Distance:   {all_metrics['hausdorff_distance']:.2f} voxels\")\n",
    "    \n",
    "    if np.any(pred_voxels):\n",
    "        print(f\"Converting prediction to mesh and saving to {output_path}...\")\n",
    "        verts, faces, _, _ = marching_cubes(pred_voxels, level=0.5)\n",
    "        filling_mesh = trimesh.Trimesh(vertices=verts, faces=faces)\n",
    "        filling_mesh.export(output_path)\n",
    "        print(\"Save complete.\")\n",
    "    else:\n",
    "        print(\"Warning: Model predicted an empty filling. No STL file was saved.\")\n",
    "        \n",
    "    # --- 5. Visualize ---\n",
    "    print(\"\\nDisplaying visual comparison...\")\n",
    "    visualize_comparison(cavity_voxels, gt_voxels, pred_voxels)"
   ]
  },
  {
   "cell_type": "code",
   "execution_count": 26,
   "id": "7f6a0fb4-edcd-4e67-a0b0-22a59b652168",
   "metadata": {},
   "outputs": [
    {
     "name": "stdout",
     "output_type": "stream",
     "text": [
      "Loading model weights from D:\\SAKIB\\RA\\TOOTH FILLING\\3D UNET 2\\models\\best_metric_model_128.pth...\n",
      "Processing input files...\n",
      "Generating prediction...\n"
     ]
    },
    {
     "name": "stderr",
     "output_type": "stream",
     "text": [
      "Using a non-tuple sequence for multidimensional indexing is deprecated and will be changed in pytorch 2.9; use x[tuple(seq)] instead of x[seq]. In pytorch 2.9 this will be interpreted as tensor index, x[torch.tensor(seq)], which will result either in an error or a different result (Triggered internally at C:\\actions-runner\\_work\\pytorch\\pytorch\\pytorch\\torch\\csrc\\autograd\\python_variable_indexing.cpp:312.)\n",
      "Using a non-tuple sequence for multidimensional indexing is deprecated and will be changed in pytorch 2.9; use x[tuple(seq)] instead of x[seq]. In pytorch 2.9 this will be interpreted as tensor index, x[torch.tensor(seq)], which will result either in an error or a different result (Triggered internally at C:\\actions-runner\\_work\\pytorch\\pytorch\\pytorch\\torch\\csrc\\autograd\\python_variable_indexing.cpp:312.)\n"
     ]
    },
    {
     "name": "stdout",
     "output_type": "stream",
     "text": [
      "  Dice Score:           0.8347\n",
      "  Jaccard (IoU):        0.7163\n",
      "  Mean Squared Error:   0.0542\n",
      "  Precision:            0.7497\n",
      "  Recall (Sensitivity): 0.9414\n",
      "  Hausdorff Distance:   13.75 voxels\n",
      "Converting prediction to mesh and saving to ./1A_generated_filling_for_test.stl...\n",
      "Save complete.\n",
      "\n",
      "Displaying visual comparison...\n"
     ]
    },
    {
     "data": {
      "image/png": "[encoded data removed]",
      "text/plain": [
       "<Figure size 1800x600 with 3 Axes>"
      ]
     },
     "metadata": {},
     "output_type": "display_data"
    }
   ],
   "source": [
    "if __name__ == '__main__':\n",
    "    generate_and_compare(\n",
    "        cavity_path=TEST_CAVITY_STL_PATH,\n",
    "        gt_path=GROUND_TRUTH_STL_PATH,\n",
    "        model_weights_path=MODEL_WEIGHTS_PATH,\n",
    "        output_path=OUTPUT_FILLING_STL_PATH\n",
    "    )\n"
   ]
  },
  {
   "cell_type": "code",
   "execution_count": null,
   "id": "767f5f2b-c74d-4733-9846-7197dc3a043a",
   "metadata": {},
   "outputs": [],
   "source": []
  }
 ],
 "metadata": {
  "kernelspec": {
   "display_name": "Python 3 (ipykernel)",
   "language": "python",
   "name": "python3"
  },
  "language_info": {
   "codemirror_mode": {
    "name": "ipython",
    "version": 3
   },
   "file_extension": ".py",
   "mimetype": "text/x-python",
   "name": "python",
   "nbconvert_exporter": "python",
   "pygments_lexer": "ipython3",
   "version": "3.13.7"
  }
 },
 "nbformat": 4,
 "nbformat_minor": 5
}
