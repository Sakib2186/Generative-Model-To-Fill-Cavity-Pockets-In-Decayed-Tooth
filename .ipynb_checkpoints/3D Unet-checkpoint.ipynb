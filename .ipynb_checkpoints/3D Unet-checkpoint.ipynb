{
 "cells": [
  {
   "cell_type": "code",
   "execution_count": 76,
   "id": "a068b41f-7731-44ac-b741-ad762c169c85",
   "metadata": {},
   "outputs": [],
   "source": [
    "import os\n",
    "import glob\n",
    "import numpy as np\n",
    "import trimesh\n",
    "import torch\n",
    "from torch.utils.data import Dataset, DataLoader\n",
    "import matplotlib.pyplot as plt\n",
    "from monai.networks.nets import UNet\n",
    "from monai.losses import DiceLoss\n",
    "from monai.inferers import sliding_window_inference\n",
    "from skimage.measure import marching_cubes\n",
    "from tqdm import tqdm\n",
    "from monai.transforms import (\n",
    "    Compose,\n",
    "    RandRotated,         \n",
    "    RandFlipd,           \n",
    "    RandZoomd,           \n",
    "    RandGaussianNoised,  \n",
    ")\n",
    "from torch.optim.lr_scheduler import ReduceLROnPlateau"
   ]
  },
  {
   "cell_type": "code",
   "execution_count": 77,
   "id": "7139cb05-70cb-4791-9af3-bdebeb5c5bcd",
   "metadata": {},
   "outputs": [
    {
     "name": "stdout",
     "output_type": "stream",
     "text": [
      "Using device: cuda\n"
     ]
    }
   ],
   "source": [
    "DATA_DIR_CAVITY = r\"\"\n",
    "DATA_DIR_FILLING = r\"\"\n",
    "CACHE_DIR = \"./preprocessed_voxels_128_dimension/\"\n",
    "\n",
    "VOXEL_DIM = 128\n",
    "\n",
    "BATCH_SIZE = 16\n",
    "LEARNING_RATE = 1e-4\n",
    "NUM_EPOCHS = 500\n",
    "VISUALIZE_EVERY_N_EPOCHS = 20\n",
    "\n",
    "device = torch.device(\"cuda\" if torch.cuda.is_available() else \"cpu\")\n",
    "print(f\"Using device: {device}\")\n",
    "os.makedirs(CACHE_DIR, exist_ok=True)\n"
   ]
  },
  {
   "cell_type": "code",
   "execution_count": 78,
   "id": "b38c3110-46a2-477b-97b3-7651dc29c536",
   "metadata": {},
   "outputs": [],
   "source": [
    "def mesh_to_voxels(stl_path, dimension=64, pad=2):\n",
    "    try:\n",
    "        mesh = trimesh.load(stl_path)\n",
    "        if not mesh.is_watertight:\n",
    "            mesh.fill_holes()\n",
    "        mesh.apply_translation(-mesh.centroid)\n",
    "        max_extent = np.max(mesh.extents)\n",
    "        pitch = max_extent / (dimension - 2 * pad)\n",
    "        voxels = mesh.voxelized(pitch=pitch)\n",
    "        filled_voxels = voxels.fill().matrix.astype(np.float32)\n",
    "        x, y, z = filled_voxels.shape\n",
    "        grid = np.zeros((dimension, dimension, dimension), dtype=np.float32)\n",
    "        x_start = (dimension - x) // 2\n",
    "        y_start = (dimension - y) // 2\n",
    "        z_start = (dimension - z) // 2\n",
    "        grid[x_start:x_start+x, y_start:y_start+y, z_start:z_start+z] = filled_voxels\n",
    "        return grid\n",
    "    except Exception as e:\n",
    "        print(f\"Error processing {stl_path}: {e}\")\n",
    "        return np.zeros((dimension, dimension, dimension), dtype=np.float32)\n",
    "\n",
    "def visualize_progress(epoch, sample_input, sample_gt, prediction):\n",
    "    input_slice = sample_input.detach().cpu().numpy().squeeze()\n",
    "    gt_slice = sample_gt.detach().cpu().numpy().squeeze()\n",
    "    pred_slice = (torch.sigmoid(prediction).detach().cpu().numpy().squeeze() > 0.5).astype(np.float32)\n",
    "    slice_idx = VOXEL_DIM // 2\n",
    "    \n",
    "    fig, axes = plt.subplots(1, 3, figsize=(15, 5))\n",
    "    axes[0].imshow(input_slice[slice_idx, :, :], cmap='bone'); axes[0].set_title(\"Input Cavity\"); axes[0].axis('off')\n",
    "    axes[1].imshow(gt_slice[slice_idx, :, :], cmap='Greens'); axes[1].set_title(\"Ground Truth Filling\"); axes[1].axis('off')\n",
    "    axes[2].imshow(pred_slice[slice_idx, :, :], cmap='Oranges'); axes[2].set_title(f\"Predicted Filling (Epoch {epoch})\"); axes[2].axis('off')\n",
    "    plt.show()\n",
    "\n"
   ]
  },
  {
   "cell_type": "code",
   "execution_count": 79,
   "id": "c671804d-3a5d-459d-829a-19535fd2c8a5",
   "metadata": {},
   "outputs": [
    {
     "name": "stdout",
     "output_type": "stream",
     "text": [
      "Found 1050 cavity files and 1050 filling files.\n",
      "Preprocessing and caching data...\n"
     ]
    },
    {
     "name": "stderr",
     "output_type": "stream",
     "text": [
      "100%|███████████████████████████████████████████████████████████████████████████| 1050/1050 [00:00<00:00, 79816.21it/s]"
     ]
    },
    {
     "name": "stdout",
     "output_type": "stream",
     "text": [
      "Preprocessing complete.\n"
     ]
    },
    {
     "name": "stderr",
     "output_type": "stream",
     "text": [
      "\n"
     ]
    }
   ],
   "source": [
    "cavity_files = sorted(glob.glob(os.path.join(DATA_DIR_CAVITY, \"*.stl\")))\n",
    "filling_files = sorted(glob.glob(os.path.join(DATA_DIR_FILLING, \"*.stl\")))\n",
    "\n",
    "if not cavity_files or not filling_files or len(cavity_files) != len(filling_files):\n",
    "    raise FileNotFoundError(\"Could not find matching STL files. Check your paths and ensure file counts are equal.\")\n",
    "print(f\"Found {len(cavity_files)} cavity files and {len(filling_files)} filling files.\")\n",
    "\n",
    "print(\"Preprocessing and caching data...\")\n",
    "for i in tqdm(range(len(cavity_files))):\n",
    "    cavity_path = cavity_files[i]\n",
    "    filling_path = filling_files[i]\n",
    "    base_name = os.path.basename(cavity_path).replace('.stl', '')\n",
    "    cavity_cache_path = os.path.join(CACHE_DIR, f\"{base_name}_cavity.npy\")\n",
    "    filling_cache_path = os.path.join(CACHE_DIR, f\"{base_name.replace('_cavity_', '_filling_')}_filling.npy\") # Robust naming\n",
    "    \n",
    "    if not os.path.exists(cavity_cache_path) or not os.path.exists(filling_cache_path):\n",
    "        cavity_voxels = mesh_to_voxels(cavity_path, dimension=VOXEL_DIM)\n",
    "        filling_voxels = mesh_to_voxels(filling_path, dimension=VOXEL_DIM)\n",
    "        np.save(cavity_cache_path, cavity_voxels)\n",
    "        np.save(filling_cache_path, filling_voxels)\n",
    "print(\"Preprocessing complete.\")\n"
   ]
  },
  {
   "cell_type": "code",
   "execution_count": 80,
   "id": "21fb5194-8443-48b0-892f-b798008d9116",
   "metadata": {},
   "outputs": [],
   "source": [
    "train_transforms = Compose([\n",
    "    RandRotated(keys=[\"image\", \"label\"], range_x=0.1, range_y=0.1, range_z=0.1, prob=0.4, keep_size=True),\n",
    "    RandFlipd(keys=[\"image\", \"label\"], spatial_axis=[0, 1, 2], prob=0.4),\n",
    "    RandZoomd(keys=[\"image\", \"label\"], min_zoom=0.95, max_zoom=1.05, prob=0.4),\n",
    "    RandGaussianNoised(keys=[\"image\"], prob=0.1, std=0.01),\n",
    "])"
   ]
  },
  {
   "cell_type": "code",
   "execution_count": 81,
   "id": "2328b11f-a904-43c9-89c1-cdccd2ebc0ec",
   "metadata": {},
   "outputs": [],
   "source": [
    "class ToothDataset(Dataset):\n",
    "    def __init__(self, cavity_files, filling_files, transform=None):\n",
    "        self.cavity_files = cavity_files\n",
    "        self.filling_files = filling_files\n",
    "        self.transform = transform\n",
    "\n",
    "    def __len__(self):\n",
    "        return len(self.cavity_files)\n",
    "\n",
    "    def __getitem__(self, idx):\n",
    "        cavity_voxels = np.load(self.cavity_files[idx])\n",
    "        filling_voxels = np.load(self.filling_files[idx])\n",
    "        sample = {\n",
    "            \"image\": torch.from_numpy(cavity_voxels).unsqueeze(0),\n",
    "            \"label\": torch.from_numpy(filling_voxels).unsqueeze(0)\n",
    "        }\n",
    "        if self.transform:\n",
    "            sample = self.transform(sample)\n",
    "        return sample"
   ]
  },
  {
   "cell_type": "code",
   "execution_count": 82,
   "id": "0ff1138b-71fd-4331-b4c3-85d601e680f2",
   "metadata": {},
   "outputs": [],
   "source": [
    "all_cavity_files = sorted(glob.glob(os.path.join(CACHE_DIR, \"*_cavity.npy\")))\n",
    "all_filling_files = sorted(glob.glob(os.path.join(CACHE_DIR, \"*_filling.npy\")))\n",
    "indices = list(range(len(all_cavity_files)))\n",
    "np.random.shuffle(indices)\n",
    "split_point = int(0.8 * len(indices))\n",
    "train_indices, val_indices = indices[:split_point], indices[split_point:]"
   ]
  },
  {
   "cell_type": "code",
   "execution_count": 83,
   "id": "9fc5ca94-5e74-4594-be66-a1781ea4bf71",
   "metadata": {},
   "outputs": [],
   "source": [
    "#train_transforms = None #During first stage of the trainig, the model is trained without data augmentation.\n",
    "\n",
    "train_dataset = ToothDataset(\n",
    "    cavity_files=[all_cavity_files[i] for i in train_indices],\n",
    "    filling_files=[all_filling_files[i] for i in train_indices],\n",
    "    transform=train_transforms\n",
    ")\n",
    "val_dataset = ToothDataset(\n",
    "    cavity_files=[all_cavity_files[i] for i in val_indices],\n",
    "    filling_files=[all_filling_files[i] for i in val_indices],\n",
    "    transform=None\n",
    ")"
   ]
  },
  {
   "cell_type": "code",
   "execution_count": 84,
   "id": "581c8d0d-088a-4582-9951-192ca7fad151",
   "metadata": {},
   "outputs": [
    {
     "name": "stdout",
     "output_type": "stream",
     "text": [
      "Dataset ready: 840 training, 210 validation samples.\n"
     ]
    }
   ],
   "source": [
    "train_loader = DataLoader(train_dataset, batch_size=BATCH_SIZE, shuffle=True, num_workers=0)\n",
    "val_loader = DataLoader(val_dataset, batch_size=1, shuffle=False, num_workers=0)\n",
    "\n",
    "print(f\"Dataset ready: {len(train_dataset)} training, {len(val_dataset)} validation samples.\")"
   ]
  },
  {
   "cell_type": "code",
   "execution_count": 85,
   "id": "198338d8-119f-4088-b929-06206be565b8",
   "metadata": {},
   "outputs": [
    {
     "name": "stdout",
     "output_type": "stream",
     "text": [
      "Model, Loss, and Optimizer are ready.\n"
     ]
    }
   ],
   "source": [
    "import torch.nn as nn\n",
    "model = UNet(\n",
    "    spatial_dims=3,\n",
    "    in_channels=1,\n",
    "    out_channels=1,\n",
    "    channels=(16, 32, 64, 128, 256),\n",
    "    strides=(2, 2, 2, 2),\n",
    "    num_res_units=2,\n",
    "    dropout=0.2\n",
    ").to(device)\n",
    "\n",
    "loss_function = DiceLoss(to_onehot_y=False, sigmoid=True)\n",
    "dice_loss = DiceLoss(to_onehot_y=False, sigmoid=True)\n",
    "bce_loss = nn.BCEWithLogitsLoss()\n",
    "#optimizer = torch.optim.Adam(model.parameters(), LEARNING_RATE) #during first stage of the training\n",
    "optimizer = torch.optim.Adam(model.parameters(), LEARNING_RATE / 10) #during retraining learning rate is reduced\n",
    "MIN_LR = 1e-6 \n",
    "scheduler = ReduceLROnPlateau(optimizer, mode='max', factor=0.5, patience=5,min_lr=MIN_LR)\n",
    "\n",
    "def combined_loss(pred, target):\n",
    "    return dice_loss(pred, target) + bce_loss(pred, target)\n",
    "\n",
    "print(\"Model, Loss, and Optimizer are ready.\")"
   ]
  },
  {
   "cell_type": "code",
   "execution_count": 86,
   "id": "ec99e3b8-2450-4fa3-a039-dcec30175fc0",
   "metadata": {},
   "outputs": [
    {
     "name": "stdout",
     "output_type": "stream",
     "text": [
      "✅ Successfully loaded weights from Stage 1 for fine-tuning.\n",
      "🚀 Starting training...\n",
      "--------------------\n",
      "Epoch 1/500\n"
     ]
    },
    {
     "name": "stderr",
     "output_type": "stream",
     "text": [
      "Training: 100%|████████████████████████████████████████████████████████████████████████| 53/53 [04:30<00:00,  5.11s/it]\n"
     ]
    },
    {
     "name": "stdout",
     "output_type": "stream",
     "text": [
      "Epoch 1 average training loss: 0.7929\n"
     ]
    },
    {
     "name": "stderr",
     "output_type": "stream",
     "text": [
      "Validating: 100%|████████████████████████████████████████████████████████████████████| 210/210 [00:45<00:00,  4.66it/s]\n"
     ]
    },
    {
     "name": "stdout",
     "output_type": "stream",
     "text": [
      "Epoch 1 validation metric (Dice): 0.8571\n",
      "✅ New best model saved with metric: 0.8571\n",
      "--------------------\n",
      "Epoch 2/500\n"
     ]
    },
    {
     "name": "stderr",
     "output_type": "stream",
     "text": [
      "Training: 100%|████████████████████████████████████████████████████████████████████████| 53/53 [04:43<00:00,  5.34s/it]\n"
     ]
    },
    {
     "name": "stdout",
     "output_type": "stream",
     "text": [
      "Epoch 2 average training loss: 0.6149\n"
     ]
    },
    {
     "name": "stderr",
     "output_type": "stream",
     "text": [
      "Validating: 100%|████████████████████████████████████████████████████████████████████| 210/210 [00:44<00:00,  4.71it/s]\n"
     ]
    },
    {
     "name": "stdout",
     "output_type": "stream",
     "text": [
      "Epoch 2 validation metric (Dice): 0.8447\n",
      "--------------------\n",
      "Epoch 3/500\n"
     ]
    },
    {
     "name": "stderr",
     "output_type": "stream",
     "text": [
      "Training: 100%|████████████████████████████████████████████████████████████████████████| 53/53 [04:40<00:00,  5.29s/it]\n"
     ]
    },
    {
     "name": "stdout",
     "output_type": "stream",
     "text": [
      "Epoch 3 average training loss: 0.5730\n"
     ]
    },
    {
     "name": "stderr",
     "output_type": "stream",
     "text": [
      "Validating: 100%|████████████████████████████████████████████████████████████████████| 210/210 [00:44<00:00,  4.71it/s]\n"
     ]
    },
    {
     "name": "stdout",
     "output_type": "stream",
     "text": [
      "Epoch 3 validation metric (Dice): 0.8393\n",
      "--------------------\n",
      "Epoch 4/500\n"
     ]
    },
    {
     "name": "stderr",
     "output_type": "stream",
     "text": [
      "Training: 100%|████████████████████████████████████████████████████████████████████████| 53/53 [04:40<00:00,  5.30s/it]\n"
     ]
    },
    {
     "name": "stdout",
     "output_type": "stream",
     "text": [
      "Epoch 4 average training loss: 0.5605\n"
     ]
    },
    {
     "name": "stderr",
     "output_type": "stream",
     "text": [
      "Validating: 100%|████████████████████████████████████████████████████████████████████| 210/210 [00:44<00:00,  4.71it/s]\n"
     ]
    },
    {
     "name": "stdout",
     "output_type": "stream",
     "text": [
      "Epoch 4 validation metric (Dice): 0.8344\n",
      "--------------------\n",
      "Epoch 5/500\n"
     ]
    },
    {
     "name": "stderr",
     "output_type": "stream",
     "text": [
      "Training: 100%|████████████████████████████████████████████████████████████████████████| 53/53 [04:41<00:00,  5.30s/it]\n"
     ]
    },
    {
     "name": "stdout",
     "output_type": "stream",
     "text": [
      "Epoch 5 average training loss: 0.5604\n"
     ]
    },
    {
     "name": "stderr",
     "output_type": "stream",
     "text": [
      "Validating: 100%|████████████████████████████████████████████████████████████████████| 210/210 [00:44<00:00,  4.72it/s]\n"
     ]
    },
    {
     "name": "stdout",
     "output_type": "stream",
     "text": [
      "Epoch 5 validation metric (Dice): 0.8319\n",
      "--------------------\n",
      "Epoch 6/500\n"
     ]
    },
    {
     "name": "stderr",
     "output_type": "stream",
     "text": [
      "Training: 100%|████████████████████████████████████████████████████████████████████████| 53/53 [04:36<00:00,  5.22s/it]\n"
     ]
    },
    {
     "name": "stdout",
     "output_type": "stream",
     "text": [
      "Epoch 6 average training loss: 0.5343\n"
     ]
    },
    {
     "name": "stderr",
     "output_type": "stream",
     "text": [
      "Validating: 100%|████████████████████████████████████████████████████████████████████| 210/210 [00:44<00:00,  4.70it/s]\n"
     ]
    },
    {
     "name": "stdout",
     "output_type": "stream",
     "text": [
      "Epoch 6 validation metric (Dice): 0.8335\n",
      "--------------------\n",
      "Epoch 7/500\n"
     ]
    },
    {
     "name": "stderr",
     "output_type": "stream",
     "text": [
      "Training: 100%|████████████████████████████████████████████████████████████████████████| 53/53 [04:36<00:00,  5.22s/it]\n"
     ]
    },
    {
     "name": "stdout",
     "output_type": "stream",
     "text": [
      "Epoch 7 average training loss: 0.5368\n"
     ]
    },
    {
     "name": "stderr",
     "output_type": "stream",
     "text": [
      "Validating: 100%|████████████████████████████████████████████████████████████████████| 210/210 [00:44<00:00,  4.75it/s]\n"
     ]
    },
    {
     "name": "stdout",
     "output_type": "stream",
     "text": [
      "Epoch 7 validation metric (Dice): 0.8332\n",
      "--------------------\n",
      "Epoch 8/500\n"
     ]
    },
    {
     "name": "stderr",
     "output_type": "stream",
     "text": [
      "Training: 100%|████████████████████████████████████████████████████████████████████████| 53/53 [04:35<00:00,  5.20s/it]\n"
     ]
    },
    {
     "name": "stdout",
     "output_type": "stream",
     "text": [
      "Epoch 8 average training loss: 0.5323\n"
     ]
    },
    {
     "name": "stderr",
     "output_type": "stream",
     "text": [
      "Validating: 100%|████████████████████████████████████████████████████████████████████| 210/210 [00:44<00:00,  4.74it/s]\n"
     ]
    },
    {
     "name": "stdout",
     "output_type": "stream",
     "text": [
      "Epoch 8 validation metric (Dice): 0.8329\n",
      "--------------------\n",
      "Epoch 9/500\n"
     ]
    },
    {
     "name": "stderr",
     "output_type": "stream",
     "text": [
      "Training: 100%|████████████████████████████████████████████████████████████████████████| 53/53 [04:36<00:00,  5.21s/it]\n"
     ]
    },
    {
     "name": "stdout",
     "output_type": "stream",
     "text": [
      "Epoch 9 average training loss: 0.5218\n"
     ]
    },
    {
     "name": "stderr",
     "output_type": "stream",
     "text": [
      "Validating: 100%|████████████████████████████████████████████████████████████████████| 210/210 [00:44<00:00,  4.73it/s]\n"
     ]
    },
    {
     "name": "stdout",
     "output_type": "stream",
     "text": [
      "Epoch 9 validation metric (Dice): 0.8336\n",
      "--------------------\n",
      "Epoch 10/500\n"
     ]
    },
    {
     "name": "stderr",
     "output_type": "stream",
     "text": [
      "Training: 100%|████████████████████████████████████████████████████████████████████████| 53/53 [04:38<00:00,  5.25s/it]\n"
     ]
    },
    {
     "name": "stdout",
     "output_type": "stream",
     "text": [
      "Epoch 10 average training loss: 0.5326\n"
     ]
    },
    {
     "name": "stderr",
     "output_type": "stream",
     "text": [
      "Validating: 100%|████████████████████████████████████████████████████████████████████| 210/210 [00:44<00:00,  4.73it/s]\n"
     ]
    },
    {
     "name": "stdout",
     "output_type": "stream",
     "text": [
      "Epoch 10 validation metric (Dice): 0.8328\n",
      "--------------------\n",
      "Epoch 11/500\n"
     ]
    },
    {
     "name": "stderr",
     "output_type": "stream",
     "text": [
      "Training: 100%|████████████████████████████████████████████████████████████████████████| 53/53 [04:38<00:00,  5.26s/it]\n"
     ]
    },
    {
     "name": "stdout",
     "output_type": "stream",
     "text": [
      "Epoch 11 average training loss: 0.5086\n"
     ]
    },
    {
     "name": "stderr",
     "output_type": "stream",
     "text": [
      "Validating: 100%|████████████████████████████████████████████████████████████████████| 210/210 [00:44<00:00,  4.70it/s]\n"
     ]
    },
    {
     "name": "stdout",
     "output_type": "stream",
     "text": [
      "Epoch 11 validation metric (Dice): 0.8348\n",
      "--------------------\n",
      "Epoch 12/500\n"
     ]
    },
    {
     "name": "stderr",
     "output_type": "stream",
     "text": [
      "Training: 100%|████████████████████████████████████████████████████████████████████████| 53/53 [04:38<00:00,  5.25s/it]\n"
     ]
    },
    {
     "name": "stdout",
     "output_type": "stream",
     "text": [
      "Epoch 12 average training loss: 0.5308\n"
     ]
    },
    {
     "name": "stderr",
     "output_type": "stream",
     "text": [
      "Validating: 100%|████████████████████████████████████████████████████████████████████| 210/210 [00:44<00:00,  4.74it/s]\n"
     ]
    },
    {
     "name": "stdout",
     "output_type": "stream",
     "text": [
      "Epoch 12 validation metric (Dice): 0.8347\n",
      "--------------------\n",
      "Epoch 13/500\n"
     ]
    },
    {
     "name": "stderr",
     "output_type": "stream",
     "text": [
      "Training: 100%|████████████████████████████████████████████████████████████████████████| 53/53 [04:37<00:00,  5.23s/it]\n"
     ]
    },
    {
     "name": "stdout",
     "output_type": "stream",
     "text": [
      "Epoch 13 average training loss: 0.5232\n"
     ]
    },
    {
     "name": "stderr",
     "output_type": "stream",
     "text": [
      "Validating: 100%|████████████████████████████████████████████████████████████████████| 210/210 [00:44<00:00,  4.67it/s]\n"
     ]
    },
    {
     "name": "stdout",
     "output_type": "stream",
     "text": [
      "Epoch 13 validation metric (Dice): 0.8355\n",
      "--------------------\n",
      "Epoch 14/500\n"
     ]
    },
    {
     "name": "stderr",
     "output_type": "stream",
     "text": [
      "Training: 100%|████████████████████████████████████████████████████████████████████████| 53/53 [04:39<00:00,  5.27s/it]\n"
     ]
    },
    {
     "name": "stdout",
     "output_type": "stream",
     "text": [
      "Epoch 14 average training loss: 0.5241\n"
     ]
    },
    {
     "name": "stderr",
     "output_type": "stream",
     "text": [
      "Validating: 100%|████████████████████████████████████████████████████████████████████| 210/210 [00:44<00:00,  4.69it/s]\n"
     ]
    },
    {
     "name": "stdout",
     "output_type": "stream",
     "text": [
      "Epoch 14 validation metric (Dice): 0.8349\n",
      "--------------------\n",
      "Epoch 15/500\n"
     ]
    },
    {
     "name": "stderr",
     "output_type": "stream",
     "text": [
      "Training: 100%|████████████████████████████████████████████████████████████████████████| 53/53 [04:36<00:00,  5.22s/it]\n"
     ]
    },
    {
     "name": "stdout",
     "output_type": "stream",
     "text": [
      "Epoch 15 average training loss: 0.5220\n"
     ]
    },
    {
     "name": "stderr",
     "output_type": "stream",
     "text": [
      "Validating: 100%|████████████████████████████████████████████████████████████████████| 210/210 [00:44<00:00,  4.71it/s]\n"
     ]
    },
    {
     "name": "stdout",
     "output_type": "stream",
     "text": [
      "Epoch 15 validation metric (Dice): 0.8352\n",
      "--------------------\n",
      "Epoch 16/500\n"
     ]
    },
    {
     "name": "stderr",
     "output_type": "stream",
     "text": [
      "Training: 100%|████████████████████████████████████████████████████████████████████████| 53/53 [04:39<00:00,  5.28s/it]\n"
     ]
    },
    {
     "name": "stdout",
     "output_type": "stream",
     "text": [
      "Epoch 16 average training loss: 0.5222\n"
     ]
    },
    {
     "name": "stderr",
     "output_type": "stream",
     "text": [
      "Validating: 100%|████████████████████████████████████████████████████████████████████| 210/210 [00:44<00:00,  4.69it/s]\n"
     ]
    },
    {
     "name": "stdout",
     "output_type": "stream",
     "text": [
      "Epoch 16 validation metric (Dice): 0.8350\n",
      "--------------------\n",
      "Epoch 17/500\n"
     ]
    },
    {
     "name": "stderr",
     "output_type": "stream",
     "text": [
      "Training: 100%|████████████████████████████████████████████████████████████████████████| 53/53 [04:40<00:00,  5.29s/it]\n"
     ]
    },
    {
     "name": "stdout",
     "output_type": "stream",
     "text": [
      "Epoch 17 average training loss: 0.5347\n"
     ]
    },
    {
     "name": "stderr",
     "output_type": "stream",
     "text": [
      "Validating: 100%|████████████████████████████████████████████████████████████████████| 210/210 [00:44<00:00,  4.71it/s]\n"
     ]
    },
    {
     "name": "stdout",
     "output_type": "stream",
     "text": [
      "Epoch 17 validation metric (Dice): 0.8352\n",
      "--------------------\n",
      "Epoch 18/500\n"
     ]
    },
    {
     "name": "stderr",
     "output_type": "stream",
     "text": [
      "Training: 100%|████████████████████████████████████████████████████████████████████████| 53/53 [04:58<00:00,  5.63s/it]\n"
     ]
    },
    {
     "name": "stdout",
     "output_type": "stream",
     "text": [
      "Epoch 18 average training loss: 0.5161\n"
     ]
    },
    {
     "name": "stderr",
     "output_type": "stream",
     "text": [
      "Validating: 100%|████████████████████████████████████████████████████████████████████| 210/210 [00:52<00:00,  4.01it/s]\n"
     ]
    },
    {
     "name": "stdout",
     "output_type": "stream",
     "text": [
      "Epoch 18 validation metric (Dice): 0.8353\n",
      "--------------------\n",
      "Epoch 19/500\n"
     ]
    },
    {
     "name": "stderr",
     "output_type": "stream",
     "text": [
      "Training: 100%|████████████████████████████████████████████████████████████████████████| 53/53 [04:50<00:00,  5.49s/it]\n"
     ]
    },
    {
     "name": "stdout",
     "output_type": "stream",
     "text": [
      "Epoch 19 average training loss: 0.5206\n"
     ]
    },
    {
     "name": "stderr",
     "output_type": "stream",
     "text": [
      "Validating: 100%|████████████████████████████████████████████████████████████████████| 210/210 [00:44<00:00,  4.71it/s]\n"
     ]
    },
    {
     "name": "stdout",
     "output_type": "stream",
     "text": [
      "Epoch 19 validation metric (Dice): 0.8358\n",
      "--------------------\n",
      "Epoch 20/500\n"
     ]
    },
    {
     "name": "stderr",
     "output_type": "stream",
     "text": [
      "Training: 100%|████████████████████████████████████████████████████████████████████████| 53/53 [04:36<00:00,  5.21s/it]\n"
     ]
    },
    {
     "name": "stdout",
     "output_type": "stream",
     "text": [
      "Epoch 20 average training loss: 0.5262\n"
     ]
    },
    {
     "name": "stderr",
     "output_type": "stream",
     "text": [
      "Validating: 100%|████████████████████████████████████████████████████████████████████| 210/210 [00:44<00:00,  4.73it/s]\n"
     ]
    },
    {
     "name": "stdout",
     "output_type": "stream",
     "text": [
      "Epoch 20 validation metric (Dice): 0.8356\n",
      "\n",
      "--- Visualizing progress at epoch 20 ---\n"
     ]
    },
    {
     "data": {
      "image/png": "[encoded data removed]",
      "text/plain": [
       "<Figure size 1500x500 with 3 Axes>"
      ]
     },
     "metadata": {},
     "output_type": "display_data"
    },
    {
     "name": "stdout",
     "output_type": "stream",
     "text": [
      "--------------------\n",
      "Epoch 21/500\n"
     ]
    },
    {
     "name": "stderr",
     "output_type": "stream",
     "text": [
      "Training: 100%|████████████████████████████████████████████████████████████████████████| 53/53 [04:35<00:00,  5.20s/it]\n"
     ]
    },
    {
     "name": "stdout",
     "output_type": "stream",
     "text": [
      "Epoch 21 average training loss: 0.5143\n"
     ]
    },
    {
     "name": "stderr",
     "output_type": "stream",
     "text": [
      "Validating: 100%|████████████████████████████████████████████████████████████████████| 210/210 [00:44<00:00,  4.70it/s]"
     ]
    },
    {
     "name": "stdout",
     "output_type": "stream",
     "text": [
      "Epoch 21 validation metric (Dice): 0.8360\n",
      "Validation metric has not improved for 20 epochs. Stopping training.\n",
      "\n",
      "🎉 Training complete!\n",
      "Best validation metric was 0.8571 at epoch 1.\n"
     ]
    },
    {
     "name": "stderr",
     "output_type": "stream",
     "text": [
      "\n"
     ]
    }
   ],
   "source": [
    "best_metric = -1\n",
    "best_metric_epoch = -1\n",
    "patience = 20\n",
    "epochs_no_improve = 0\n",
    "vis_sample = next(iter(val_loader)) # Get a sample for visualization\n",
    "vis_input, vis_gt = vis_sample[\"image\"].to(device), vis_sample[\"label\"].to(device)\n",
    "\n",
    "#during retraining, model is loaded\n",
    "# model.load_state_dict(torch.load(\"best_metric_model.pth\"))\n",
    "# print(\"Successfully loaded weights from Stage 1 for fine-tuning.\")\n",
    "\n",
    "print(\"Starting training...\")\n",
    "for epoch in range(NUM_EPOCHS):\n",
    "    print(\"-\" * 20)\n",
    "    print(f\"Epoch {epoch + 1}/{NUM_EPOCHS}\")\n",
    "    model.train()\n",
    "    epoch_loss = 0\n",
    "    \n",
    "    for batch_data in tqdm(train_loader, desc=\"Training\"):\n",
    "        inputs, labels = batch_data[\"image\"].to(device), batch_data[\"label\"].to(device)\n",
    "        optimizer.zero_grad()\n",
    "        outputs = model(inputs)\n",
    "        loss = combined_loss(outputs, labels)\n",
    "        loss.backward()\n",
    "        optimizer.step()\n",
    "        epoch_loss += loss.item()\n",
    "    \n",
    "    print(f\"Epoch {epoch + 1} average training loss: {epoch_loss / len(train_loader):.4f}\")\n",
    "\n",
    "    # Validation phase\n",
    "    model.eval()\n",
    "    metric_sum = 0.0\n",
    "    with torch.no_grad():\n",
    "        for val_data in tqdm(val_loader, desc=\"Validating\"):\n",
    "            val_inputs, val_labels = val_data[\"image\"].to(device), val_data[\"label\"].to(device)\n",
    "            val_outputs = sliding_window_inference(val_inputs, (VOXEL_DIM, VOXEL_DIM, VOXEL_DIM), 4, model)\n",
    "            metric_sum += 1.0 - loss_function(val_outputs, val_labels).item()\n",
    "            \n",
    "    current_metric = metric_sum / len(val_loader)\n",
    "    print(f\"Epoch {epoch + 1} validation metric (Dice): {current_metric:.4f}\")\n",
    "    \n",
    "    if current_metric > best_metric:\n",
    "        best_metric = current_metric\n",
    "        best_metric_epoch = epoch + 1\n",
    "        torch.save(model.state_dict(), \"best_metric_model.pth\")\n",
    "        print(f\"✅ New best model saved with metric: {best_metric:.4f}\")\n",
    "        epochs_no_improve = 0\n",
    "    else:\n",
    "        epochs_no_improve += 1\n",
    "    \n",
    "    # Step the scheduler based on the validation metric\n",
    "    scheduler.step(current_metric)\n",
    "\n",
    "    current_lr = optimizer.param_groups[0]['lr']\n",
    "\n",
    "    if epochs_no_improve == patience:\n",
    "        print(f\"Validation metric has not improved for {patience} epochs. Stopping training.\")\n",
    "        break\n",
    "\n",
    "    if current_lr <= MIN_LR:\n",
    "        print(f\"\\nLearning rate has reached the minimum threshold ({MIN_LR}). Stopping training.\")\n",
    "        break\n",
    "            \n",
    "    # Visualization check\n",
    "    if (epoch + 1) % VISUALIZE_EVERY_N_EPOCHS == 0:\n",
    "        print(f\"\\n--- Visualizing progress at epoch {epoch + 1} ---\")\n",
    "        model.eval()\n",
    "        with torch.no_grad():\n",
    "            vis_pred = model(vis_input)\n",
    "            visualize_progress(epoch + 1, vis_input, vis_gt, vis_pred) \n",
    "\n",
    "print(\"\\n🎉 Training complete!\")\n",
    "print(f\"Best validation metric was {best_metric:.4f} at epoch {best_metric_epoch}.\")"
   ]
  },
  {
   "cell_type": "code",
   "execution_count": null,
   "id": "21d26189-ab84-4cb8-885c-da93860db997",
   "metadata": {},
   "outputs": [],
   "source": []
  }
 ],
 "metadata": {
  "kernelspec": {
   "display_name": "Python 3 (ipykernel)",
   "language": "python",
   "name": "python3"
  },
  "language_info": {
   "codemirror_mode": {
    "name": "ipython",
    "version": 3
   },
   "file_extension": ".py",
   "mimetype": "text/x-python",
   "name": "python",
   "nbconvert_exporter": "python",
   "pygments_lexer": "ipython3",
   "version": "3.13.7"
  }
 },
 "nbformat": 4,
 "nbformat_minor": 5
}
